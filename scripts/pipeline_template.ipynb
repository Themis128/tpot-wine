# pipeline_template.ipynb

# This cell will be dynamically replaced with region-specific code
# REGION_PLACEHOLDER

import pandas as pd
import joblib
import matplotlib.pyplot as plt
from sklearn.metrics import r2_score, mean_squared_error

# Load Data
data_path = f"data/processed_filled/combined_{region}_filled.csv"
df = pd.read_csv(data_path)
df = df.fillna(0)

# Feature and Target Setup
y = df["wine_quality_score"]
X = df.drop(columns=["date", "region", "wine_quality_score"], errors="ignore")

# Load Model
model_path = f"models/model_{region}_xgboost.pkl"
model = joblib.load(model_path)

# Predict
y_pred = model.predict(X)

# Evaluation Metrics
r2 = r2_score(y, y_pred)
rmse = mean_squared_error(y, y_pred, squared=False)
print(f"Region: {region}  |  R²: {r2:.3f}  |  RMSE: {rmse:.3f}")

# Plot: Actual vs Predicted
plt.figure(figsize=(8, 5))
plt.scatter(y, y_pred, alpha=0.6)
plt.xlabel("Actual Quality Score")
plt.ylabel("Predicted")
plt.title(f"Prediction Accuracy for {region}")
plt.plot([y.min(), y.max()], [y.min(), y.max()], 'r--')
plt.grid(True)
plt.tight_layout()
plt.show()
