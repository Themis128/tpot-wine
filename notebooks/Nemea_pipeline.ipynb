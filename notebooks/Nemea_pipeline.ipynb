{
 "cells": [
  {
   "cell_type": "code",
   "execution_count": null,
   "id": "8c956ee9",
   "metadata": {},
   "outputs": [],
   "source": [
    "# TPOT Exported Pipeline for Nemea"
   ]
  },
  {
   "cell_type": "code",
   "execution_count": null,
   "id": "3a234584",
   "metadata": {},
   "outputs": [],
   "source": [
    "# R² Score: 0.9151\n",
    "# RMSE: 0.2913"
   ]
  },
  {
   "cell_type": "code",
   "execution_count": null,
   "id": "5a453ae9",
   "metadata": {},
   "outputs": [],
   "source": [
    "import joblib\n",
    "import pandas as pd\n",
    "from sklearn.metrics import r2_score, mean_squared_error"
   ]
  },
  {
   "cell_type": "code",
   "execution_count": null,
   "id": "5d75cf8c",
   "metadata": {},
   "outputs": [],
   "source": [
    "model = joblib.load('models/Nemea_<timestamp>.joblib')"
   ]
  },
  {
   "cell_type": "code",
   "execution_count": null,
   "id": "dfe49cfe",
   "metadata": {},
   "outputs": [],
   "source": [
    "df = pd.read_csv('data/processed_filled/combined_Nemea_filled.csv')\n",
    "# Add your preprocessing here"
   ]
  },
  {
   "cell_type": "code",
   "execution_count": null,
   "id": "178fb0db",
   "metadata": {},
   "outputs": [],
   "source": [
    "# X, y = preprocess_data(df)\n",
    "# y_pred = model.predict(X)\n",
    "# print('R²:', r2_score(y, y_pred))\n",
    "# print('RMSE:', mean_squared_error(y, y_pred, squared=False))"
   ]
  },
  {
   "cell_type": "code",
   "execution_count": null,
   "id": "791802ff",
   "metadata": {},
   "outputs": [],
   "source": [
    "Pipeline(steps=[('maxabsscaler', MaxAbsScaler()),\n",
    "                ('selectfwe', SelectFwe(alpha=0.0136907240386)),\n",
    "                ('featureunion-1',\n",
    "                 FeatureUnion(transformer_list=[('skiptransformer',\n",
    "                                                 SkipTransformer()),\n",
    "                                                ('passthrough',\n",
    "                                                 Passthrough())])),\n",
    "                ('featureunion-2',\n",
    "                 FeatureUnion(transformer_list=[('featureunion',\n",
    "                                                 FeatureUnion(transformer_list=[('estimatortransformer-1',\n",
    "                                                                                 EstimatorTran...\n",
    "                                                                                                                                              learning_rate=0.0132706375322,\n",
    "                                                                                                                                              max_features=0.8717260768923,\n",
    "                                                                                                                                              max_leaf_nodes=1971,\n",
    "                                                                                                                                              min_samples_leaf=132,\n",
    "                                                                                                                                              n_iter_no_change=3,\n",
    "                                                                                                                                              random_state=42,\n",
    "                                                                                                                                              tol=0.0001,\n",
    "                                                                                                                                              validation_fraction=None)))])),\n",
    "                                                ('passthrough',\n",
    "                                                 Passthrough())])),\n",
    "                ('ardregression',\n",
    "                 ARDRegression(alpha_1=3.921e-10, alpha_2=7.330183e-07,\n",
    "                               lambda_1=2.5145689e-06, lambda_2=1.1324655e-06,\n",
    "                               threshold_lambda=16641))])"
   ]
  },
  {
   "cell_type": "code",
   "execution_count": null,
   "id": "6d607f72",
   "metadata": {},
   "outputs": [],
   "source": [
    "# You can now modify or further analyze your pipeline."
   ]
  }
 ],
 "metadata": {},
 "nbformat": 4,
 "nbformat_minor": 5
}
