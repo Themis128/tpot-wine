{
 "cells": [
  {
   "cell_type": "code",
   "execution_count": null,
   "id": "40cb7770",
   "metadata": {},
   "outputs": [],
   "source": [
    "# TPOT Exported Pipeline for Messinia"
   ]
  },
  {
   "cell_type": "code",
   "execution_count": null,
   "id": "a87e9c15",
   "metadata": {},
   "outputs": [],
   "source": [
    "# R² Score: 0.9579\n",
    "# RMSE: 0.2167"
   ]
  },
  {
   "cell_type": "code",
   "execution_count": null,
   "id": "83c91d78",
   "metadata": {},
   "outputs": [],
   "source": [
    "import joblib\n",
    "import pandas as pd\n",
    "from sklearn.metrics import r2_score, mean_squared_error"
   ]
  },
  {
   "cell_type": "code",
   "execution_count": null,
   "id": "547848af",
   "metadata": {},
   "outputs": [],
   "source": [
    "model = joblib.load('models/Messinia_<timestamp>.joblib')"
   ]
  },
  {
   "cell_type": "code",
   "execution_count": null,
   "id": "53c85747",
   "metadata": {},
   "outputs": [],
   "source": [
    "df = pd.read_csv('data/processed_filled/combined_Messinia_filled.csv')\n",
    "# Add your preprocessing here"
   ]
  },
  {
   "cell_type": "code",
   "execution_count": null,
   "id": "cce6e6a5",
   "metadata": {},
   "outputs": [],
   "source": [
    "# X, y = preprocess_data(df)\n",
    "# y_pred = model.predict(X)\n",
    "# print('R²:', r2_score(y, y_pred))\n",
    "# print('RMSE:', mean_squared_error(y, y_pred, squared=False))"
   ]
  },
  {
   "cell_type": "code",
   "execution_count": null,
   "id": "d6e55a11",
   "metadata": {},
   "outputs": [],
   "source": [
    "Pipeline(steps=[('normalizer', Normalizer(norm='max')),\n",
    "                ('selectfwe', SelectFwe(alpha=0.0005741174074)),\n",
    "                ('featureunion-1',\n",
    "                 FeatureUnion(transformer_list=[('featureunion',\n",
    "                                                 FeatureUnion(transformer_list=[('nystroem',\n",
    "                                                                                 Nystroem(gamma=0.3595601219486,\n",
    "                                                                                          kernel='sigmoid',\n",
    "                                                                                          n_components=7,\n",
    "                                                                                          random_state=42))])),\n",
    "                                                ('passthrough',\n",
    "                                                 Passthrough())])),\n",
    "                ('featureunion-2',\n",
    "                 Featur...\n",
    "                                                                                 EstimatorTransformer(cross_val_predict_cv=KFold(n_splits=5, random_state=42, shuffle=True),\n",
    "                                                                                                      estimator=ARDRegression(alpha_1=1.53985e-08,\n",
    "                                                                                                                              alpha_2=0.0006077067151,\n",
    "                                                                                                                              lambda_1=2.78175239e-05,\n",
    "                                                                                                                              lambda_2=1.36316e-08,\n",
    "                                                                                                                              threshold_lambda=19777)))])),\n",
    "                                                ('passthrough',\n",
    "                                                 Passthrough())])),\n",
    "                ('randomforestregressor',\n",
    "                 RandomForestRegressor(criterion='poisson',\n",
    "                                       max_features=0.4344308724365,\n",
    "                                       min_samples_leaf=7, min_samples_split=5,\n",
    "                                       n_jobs=1, random_state=42))])"
   ]
  },
  {
   "cell_type": "code",
   "execution_count": null,
   "id": "4d512c07",
   "metadata": {},
   "outputs": [],
   "source": [
    "# You can now modify or further analyze your pipeline."
   ]
  }
 ],
 "metadata": {},
 "nbformat": 4,
 "nbformat_minor": 5
}
