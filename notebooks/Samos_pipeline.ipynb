{
 "cells": [
  {
   "cell_type": "code",
   "execution_count": null,
   "id": "8fe53eea",
   "metadata": {},
   "outputs": [],
   "source": [
    "# TPOT Exported Pipeline for Samos"
   ]
  },
  {
   "cell_type": "code",
   "execution_count": null,
   "id": "64f046e7",
   "metadata": {},
   "outputs": [],
   "source": [
    "# R² Score: 0.8231\n",
    "# RMSE: 0.6004"
   ]
  },
  {
   "cell_type": "code",
   "execution_count": null,
   "id": "740e5f57",
   "metadata": {},
   "outputs": [],
   "source": [
    "import joblib\n",
    "import pandas as pd\n",
    "from sklearn.metrics import r2_score, mean_squared_error"
   ]
  },
  {
   "cell_type": "code",
   "execution_count": null,
   "id": "b18b38ca",
   "metadata": {},
   "outputs": [],
   "source": [
    "model = joblib.load('models/Samos_<timestamp>.joblib')"
   ]
  },
  {
   "cell_type": "code",
   "execution_count": null,
   "id": "fd31eaec",
   "metadata": {},
   "outputs": [],
   "source": [
    "df = pd.read_csv('data/processed_filled/combined_Samos_filled.csv')\n",
    "# Add your preprocessing here"
   ]
  },
  {
   "cell_type": "code",
   "execution_count": null,
   "id": "b91931a8",
   "metadata": {},
   "outputs": [],
   "source": [
    "# X, y = preprocess_data(df)\n",
    "# y_pred = model.predict(X)\n",
    "# print('R²:', r2_score(y, y_pred))\n",
    "# print('RMSE:', mean_squared_error(y, y_pred, squared=False))"
   ]
  },
  {
   "cell_type": "code",
   "execution_count": null,
   "id": "016f6d0d",
   "metadata": {},
   "outputs": [],
   "source": [
    "Pipeline(steps=[('normalizer', Normalizer(norm='l1')),\n",
    "                ('passthrough', Passthrough()),\n",
    "                ('featureunion-1',\n",
    "                 FeatureUnion(transformer_list=[('skiptransformer',\n",
    "                                                 SkipTransformer()),\n",
    "                                                ('passthrough',\n",
    "                                                 Passthrough())])),\n",
    "                ('featureunion-2',\n",
    "                 FeatureUnion(transformer_list=[('skiptransformer',\n",
    "                                                 SkipTransformer()),\n",
    "                                                ('passthrough',\n",
    "                                                 Passthrough())])),\n",
    "                ('mlpclassifier',\n",
    "                 MLPClassifier(alpha=0.0141903823128,\n",
    "                               hidden_layer_sizes=[220, 220, 220],\n",
    "                               learning_rate='invscaling',\n",
    "                               learning_rate_init=0.0782456973628,\n",
    "                               n_iter_no_change=32, random_state=42))])"
   ]
  },
  {
   "cell_type": "code",
   "execution_count": null,
   "id": "a69fac63",
   "metadata": {},
   "outputs": [],
   "source": [
    "# You can now modify or further analyze your pipeline."
   ]
  }
 ],
 "metadata": {},
 "nbformat": 4,
 "nbformat_minor": 5
}
