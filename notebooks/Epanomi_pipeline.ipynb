{
 "cells": [
  {
   "cell_type": "code",
   "execution_count": null,
   "id": "3d4cfc9e",
   "metadata": {},
   "outputs": [],
   "source": [
    "# TPOT Exported Pipeline for Epanomi"
   ]
  },
  {
   "cell_type": "code",
   "execution_count": null,
   "id": "596ed322",
   "metadata": {},
   "outputs": [],
   "source": [
    "# R² Score: 0.9462\n",
    "# RMSE: 0.2876"
   ]
  },
  {
   "cell_type": "code",
   "execution_count": null,
   "id": "25893686",
   "metadata": {},
   "outputs": [],
   "source": [
    "import joblib\n",
    "import pandas as pd\n",
    "from sklearn.metrics import r2_score, mean_squared_error"
   ]
  },
  {
   "cell_type": "code",
   "execution_count": null,
   "id": "c564e9a0",
   "metadata": {},
   "outputs": [],
   "source": [
    "model = joblib.load('models/Epanomi_<timestamp>.joblib')"
   ]
  },
  {
   "cell_type": "code",
   "execution_count": null,
   "id": "395f4f6a",
   "metadata": {},
   "outputs": [],
   "source": [
    "df = pd.read_csv('data/processed_filled/combined_Epanomi_filled.csv')\n",
    "# Add your preprocessing here"
   ]
  },
  {
   "cell_type": "code",
   "execution_count": null,
   "id": "5c4a8523",
   "metadata": {},
   "outputs": [],
   "source": [
    "# X, y = preprocess_data(df)\n",
    "# y_pred = model.predict(X)\n",
    "# print('R²:', r2_score(y, y_pred))\n",
    "# print('RMSE:', mean_squared_error(y, y_pred, squared=False))"
   ]
  },
  {
   "cell_type": "code",
   "execution_count": null,
   "id": "ae52e213",
   "metadata": {},
   "outputs": [],
   "source": [
    "Pipeline(steps=[('maxabsscaler', MaxAbsScaler()),\n",
    "                ('selectfwe', SelectFwe(alpha=0.0136907240386)),\n",
    "                ('featureunion-1',\n",
    "                 FeatureUnion(transformer_list=[('skiptransformer',\n",
    "                                                 SkipTransformer()),\n",
    "                                                ('passthrough',\n",
    "                                                 Passthrough())])),\n",
    "                ('featureunion-2',\n",
    "                 FeatureUnion(transformer_list=[('featureunion',\n",
    "                                                 FeatureUnion(transformer_list=[('estimatortransformer-1',\n",
    "                                                                                 EstimatorTran...\n",
    "                                                                                                                                              learning_rate=0.0132706375322,\n",
    "                                                                                                                                              max_features=0.8717260768923,\n",
    "                                                                                                                                              max_leaf_nodes=1971,\n",
    "                                                                                                                                              min_samples_leaf=132,\n",
    "                                                                                                                                              n_iter_no_change=3,\n",
    "                                                                                                                                              random_state=42,\n",
    "                                                                                                                                              tol=0.0001,\n",
    "                                                                                                                                              validation_fraction=None)))])),\n",
    "                                                ('passthrough',\n",
    "                                                 Passthrough())])),\n",
    "                ('ardregression',\n",
    "                 ARDRegression(alpha_1=3.921e-10, alpha_2=7.330183e-07,\n",
    "                               lambda_1=2.5145689e-06, lambda_2=1.1324655e-06,\n",
    "                               threshold_lambda=16641))])"
   ]
  },
  {
   "cell_type": "code",
   "execution_count": null,
   "id": "dca61d14",
   "metadata": {},
   "outputs": [],
   "source": [
    "# You can now modify or further analyze your pipeline."
   ]
  }
 ],
 "metadata": {},
 "nbformat": 4,
 "nbformat_minor": 5
}
