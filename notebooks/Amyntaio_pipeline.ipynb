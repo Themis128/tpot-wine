{
 "cells": [
  {
   "cell_type": "code",
   "execution_count": null,
   "id": "6a9f19c4",
   "metadata": {},
   "outputs": [],
   "source": [
    "# TPOT Exported Pipeline for Amyntaio"
   ]
  },
  {
   "cell_type": "code",
   "execution_count": null,
   "id": "0d636871",
   "metadata": {},
   "outputs": [],
   "source": [
    "# R² Score: 0.9216\n",
    "# RMSE: 0.339"
   ]
  },
  {
   "cell_type": "code",
   "execution_count": null,
   "id": "71c58c96",
   "metadata": {},
   "outputs": [],
   "source": [
    "import joblib\n",
    "import pandas as pd\n",
    "from sklearn.metrics import r2_score, mean_squared_error"
   ]
  },
  {
   "cell_type": "code",
   "execution_count": null,
   "id": "4e051d52",
   "metadata": {},
   "outputs": [],
   "source": [
    "model = joblib.load('models/Amyntaio_<timestamp>.joblib')"
   ]
  },
  {
   "cell_type": "code",
   "execution_count": null,
   "id": "f2774e34",
   "metadata": {},
   "outputs": [],
   "source": [
    "df = pd.read_csv('data/processed_filled/combined_Amyntaio_filled.csv')\n",
    "# Add your preprocessing here"
   ]
  },
  {
   "cell_type": "code",
   "execution_count": null,
   "id": "35b79b7a",
   "metadata": {},
   "outputs": [],
   "source": [
    "# X, y = preprocess_data(df)\n",
    "# y_pred = model.predict(X)\n",
    "# print('R²:', r2_score(y, y_pred))\n",
    "# print('RMSE:', mean_squared_error(y, y_pred, squared=False))"
   ]
  },
  {
   "cell_type": "code",
   "execution_count": null,
   "id": "db889675",
   "metadata": {},
   "outputs": [],
   "source": [
    "Pipeline(steps=[('normalizer', Normalizer(norm='l1')),\n",
    "                ('passthrough', Passthrough()),\n",
    "                ('featureunion-1',\n",
    "                 FeatureUnion(transformer_list=[('featureunion',\n",
    "                                                 FeatureUnion(transformer_list=[('columnonehotencoder',\n",
    "                                                                                 ColumnOneHotEncoder())])),\n",
    "                                                ('passthrough',\n",
    "                                                 Passthrough())])),\n",
    "                ('featureunion-2',\n",
    "                 FeatureUnion(transformer_list=[('skiptransformer',\n",
    "                                                 SkipTransformer()),\n",
    "                                                ('passthrough',\n",
    "                                                 Passthrough())])),\n",
    "                ('baggingclassifier',\n",
    "                 BaggingClassifier(bootstrap=False,\n",
    "                                   max_features=0.5854424709714,\n",
    "                                   max_samples=0.8490611295787, n_estimators=68,\n",
    "                                   n_jobs=1, random_state=42))])"
   ]
  },
  {
   "cell_type": "code",
   "execution_count": null,
   "id": "6ab2589d",
   "metadata": {},
   "outputs": [],
   "source": [
    "# You can now modify or further analyze your pipeline."
   ]
  }
 ],
 "metadata": {},
 "nbformat": 4,
 "nbformat_minor": 5
}
