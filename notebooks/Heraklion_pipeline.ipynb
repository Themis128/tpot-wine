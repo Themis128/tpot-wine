{
 "cells": [
  {
   "cell_type": "code",
   "execution_count": null,
   "id": "2c4cc206",
   "metadata": {},
   "outputs": [],
   "source": [
    "# TPOT Exported Pipeline for Heraklion"
   ]
  },
  {
   "cell_type": "code",
   "execution_count": null,
   "id": "27498253",
   "metadata": {},
   "outputs": [],
   "source": [
    "# R² Score: 0.9385\n",
    "# RMSE: 0.2704"
   ]
  },
  {
   "cell_type": "code",
   "execution_count": null,
   "id": "6af298c9",
   "metadata": {},
   "outputs": [],
   "source": [
    "import joblib\n",
    "import pandas as pd\n",
    "from sklearn.metrics import r2_score, mean_squared_error"
   ]
  },
  {
   "cell_type": "code",
   "execution_count": null,
   "id": "17bfb078",
   "metadata": {},
   "outputs": [],
   "source": [
    "model = joblib.load('models/Heraklion_<timestamp>.joblib')"
   ]
  },
  {
   "cell_type": "code",
   "execution_count": null,
   "id": "5e91198c",
   "metadata": {},
   "outputs": [],
   "source": [
    "df = pd.read_csv('data/processed_filled/combined_Heraklion_filled.csv')\n",
    "# Add your preprocessing here"
   ]
  },
  {
   "cell_type": "code",
   "execution_count": null,
   "id": "ae374a10",
   "metadata": {},
   "outputs": [],
   "source": [
    "# X, y = preprocess_data(df)\n",
    "# y_pred = model.predict(X)\n",
    "# print('R²:', r2_score(y, y_pred))\n",
    "# print('RMSE:', mean_squared_error(y, y_pred, squared=False))"
   ]
  },
  {
   "cell_type": "code",
   "execution_count": null,
   "id": "aee1a763",
   "metadata": {},
   "outputs": [],
   "source": [
    "Pipeline(steps=[('normalizer', Normalizer(norm='max')),\n",
    "                ('selectfwe', SelectFwe(alpha=0.0005741174074)),\n",
    "                ('featureunion-1',\n",
    "                 FeatureUnion(transformer_list=[('featureunion',\n",
    "                                                 FeatureUnion(transformer_list=[('nystroem',\n",
    "                                                                                 Nystroem(gamma=0.3595601219486,\n",
    "                                                                                          kernel='sigmoid',\n",
    "                                                                                          n_components=144,\n",
    "                                                                                          random_state=42))])),\n",
    "                                                ('passthrough',\n",
    "                                                 Passthrough())])),\n",
    "                ('featureunion-2',\n",
    "                 Feat...\n",
    "                                                                                 EstimatorTransformer(cross_val_predict_cv=KFold(n_splits=5, random_state=42, shuffle=True),\n",
    "                                                                                                      estimator=LinearSVR(C=15.4651666981784,\n",
    "                                                                                                                          epsilon=0.0002326825878,\n",
    "                                                                                                                          random_state=42)))])),\n",
    "                                                ('passthrough',\n",
    "                                                 Passthrough())])),\n",
    "                ('randomforestregressor',\n",
    "                 RandomForestRegressor(criterion='poisson',\n",
    "                                       max_features=0.4344308724365,\n",
    "                                       min_samples_leaf=7, min_samples_split=5,\n",
    "                                       n_jobs=1, random_state=42))])"
   ]
  },
  {
   "cell_type": "code",
   "execution_count": null,
   "id": "928f4fa5",
   "metadata": {},
   "outputs": [],
   "source": [
    "# You can now modify or further analyze your pipeline."
   ]
  }
 ],
 "metadata": {},
 "nbformat": 4,
 "nbformat_minor": 5
}
