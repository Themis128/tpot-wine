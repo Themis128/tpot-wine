{
 "cells": [
  {
   "cell_type": "code",
   "execution_count": null,
   "id": "dd7b7fdc",
   "metadata": {},
   "outputs": [],
   "source": [
    "# TPOT Exported Pipeline for Koropi"
   ]
  },
  {
   "cell_type": "code",
   "execution_count": null,
   "id": "716dc872",
   "metadata": {},
   "outputs": [],
   "source": [
    "# R² Score: 0.8956\n",
    "# RMSE: 0.3842"
   ]
  },
  {
   "cell_type": "code",
   "execution_count": null,
   "id": "997f24f2",
   "metadata": {},
   "outputs": [],
   "source": [
    "import joblib\n",
    "import pandas as pd\n",
    "from sklearn.metrics import r2_score, mean_squared_error"
   ]
  },
  {
   "cell_type": "code",
   "execution_count": null,
   "id": "8a8dbfe5",
   "metadata": {},
   "outputs": [],
   "source": [
    "model = joblib.load('models/Koropi_<timestamp>.joblib')"
   ]
  },
  {
   "cell_type": "code",
   "execution_count": null,
   "id": "e7104186",
   "metadata": {},
   "outputs": [],
   "source": [
    "df = pd.read_csv('data/processed_filled/combined_Koropi_filled.csv')\n",
    "# Add your preprocessing here"
   ]
  },
  {
   "cell_type": "code",
   "execution_count": null,
   "id": "afef221b",
   "metadata": {},
   "outputs": [],
   "source": [
    "# X, y = preprocess_data(df)\n",
    "# y_pred = model.predict(X)\n",
    "# print('R²:', r2_score(y, y_pred))\n",
    "# print('RMSE:', mean_squared_error(y, y_pred, squared=False))"
   ]
  },
  {
   "cell_type": "code",
   "execution_count": null,
   "id": "dc839fee",
   "metadata": {},
   "outputs": [],
   "source": [
    "Pipeline(steps=[('standardscaler', StandardScaler()),\n",
    "                ('selectfrommodel',\n",
    "                 SelectFromModel(estimator=ExtraTreesRegressor(criterion='poisson',\n",
    "                                                               max_features=0.3618613254315,\n",
    "                                                               min_samples_leaf=2,\n",
    "                                                               min_samples_split=10,\n",
    "                                                               n_jobs=1,\n",
    "                                                               random_state=42),\n",
    "                                 threshold=0.0023041906972)),\n",
    "                ('featureunion-1',\n",
    "                 FeatureUnion(transformer_list=[('featureunion',\n",
    "                                                 FeatureUnion(transformer_...\n",
    "                                                                                 Binarizer(threshold=0.5602233065204))])),\n",
    "                                                ('passthrough',\n",
    "                                                 Passthrough())])),\n",
    "                ('featureunion-2',\n",
    "                 FeatureUnion(transformer_list=[('skiptransformer',\n",
    "                                                 SkipTransformer()),\n",
    "                                                ('passthrough',\n",
    "                                                 Passthrough())])),\n",
    "                ('mlpregressor',\n",
    "                 MLPRegressor(activation='tanh', alpha=0.0042753938088,\n",
    "                              hidden_layer_sizes=[165],\n",
    "                              learning_rate_init=0.0058786451147,\n",
    "                              n_iter_no_change=32, random_state=42))])"
   ]
  },
  {
   "cell_type": "code",
   "execution_count": null,
   "id": "074034dd",
   "metadata": {},
   "outputs": [],
   "source": [
    "# You can now modify or further analyze your pipeline."
   ]
  }
 ],
 "metadata": {},
 "nbformat": 4,
 "nbformat_minor": 5
}
