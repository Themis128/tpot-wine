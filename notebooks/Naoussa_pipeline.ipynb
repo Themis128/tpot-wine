{
 "cells": [
  {
   "cell_type": "code",
   "execution_count": null,
   "id": "fc865257",
   "metadata": {},
   "outputs": [],
   "source": [
    "# TPOT Exported Pipeline for Naoussa"
   ]
  },
  {
   "cell_type": "code",
   "execution_count": null,
   "id": "c8144fb7",
   "metadata": {},
   "outputs": [],
   "source": [
    "# R² Score: 0.9508\n",
    "# RMSE: 0.3025"
   ]
  },
  {
   "cell_type": "code",
   "execution_count": null,
   "id": "6d810003",
   "metadata": {},
   "outputs": [],
   "source": [
    "import joblib\n",
    "import pandas as pd\n",
    "from sklearn.metrics import r2_score, mean_squared_error"
   ]
  },
  {
   "cell_type": "code",
   "execution_count": null,
   "id": "4c64855e",
   "metadata": {},
   "outputs": [],
   "source": [
    "model = joblib.load('models/Naoussa_<timestamp>.joblib')"
   ]
  },
  {
   "cell_type": "code",
   "execution_count": null,
   "id": "eaf11155",
   "metadata": {},
   "outputs": [],
   "source": [
    "df = pd.read_csv('data/processed_filled/combined_Naoussa_filled.csv')\n",
    "# Add your preprocessing here"
   ]
  },
  {
   "cell_type": "code",
   "execution_count": null,
   "id": "21f9bd78",
   "metadata": {},
   "outputs": [],
   "source": [
    "# X, y = preprocess_data(df)\n",
    "# y_pred = model.predict(X)\n",
    "# print('R²:', r2_score(y, y_pred))\n",
    "# print('RMSE:', mean_squared_error(y, y_pred, squared=False))"
   ]
  },
  {
   "cell_type": "code",
   "execution_count": null,
   "id": "f435b498",
   "metadata": {},
   "outputs": [],
   "source": [
    "Pipeline(steps=[('normalizer', Normalizer()),\n",
    "                ('selectpercentile',\n",
    "                 SelectPercentile(percentile=81.4669864630971)),\n",
    "                ('featureunion-1',\n",
    "                 FeatureUnion(transformer_list=[('skiptransformer',\n",
    "                                                 SkipTransformer()),\n",
    "                                                ('passthrough',\n",
    "                                                 Passthrough())])),\n",
    "                ('featureunion-2',\n",
    "                 FeatureUnion(transformer_list=[('featureunion',\n",
    "                                                 FeatureUnion(transformer_list=[('estimatortransformer'...\n",
    "                                                                                                      estimator=ARDRegression(alpha_1=0.0009917453853,\n",
    "                                                                                                                              alpha_2=0.0002172509881,\n",
    "                                                                                                                              lambda_1=1.788287e-07,\n",
    "                                                                                                                              lambda_2=5.251689e-07,\n",
    "                                                                                                                              threshold_lambda=97124)))])),\n",
    "                                                ('passthrough',\n",
    "                                                 Passthrough())])),\n",
    "                ('mlpregressor',\n",
    "                 MLPRegressor(alpha=0.0001764180969, early_stopping=True,\n",
    "                              hidden_layer_sizes=[286, 286],\n",
    "                              learning_rate_init=0.0012991969938,\n",
    "                              n_iter_no_change=32, random_state=42))])"
   ]
  },
  {
   "cell_type": "code",
   "execution_count": null,
   "id": "32bb788a",
   "metadata": {},
   "outputs": [],
   "source": [
    "# You can now modify or further analyze your pipeline."
   ]
  }
 ],
 "metadata": {},
 "nbformat": 4,
 "nbformat_minor": 5
}
