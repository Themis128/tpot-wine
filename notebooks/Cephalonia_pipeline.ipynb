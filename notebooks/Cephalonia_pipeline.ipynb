{
 "cells": [
  {
   "cell_type": "code",
   "execution_count": null,
   "id": "2f61e245",
   "metadata": {},
   "outputs": [],
   "source": [
    "# TPOT Exported Pipeline for Cephalonia"
   ]
  },
  {
   "cell_type": "code",
   "execution_count": null,
   "id": "6924b891",
   "metadata": {},
   "outputs": [],
   "source": [
    "# R² Score: 0.9335\n",
    "# RMSE: 0.2885"
   ]
  },
  {
   "cell_type": "code",
   "execution_count": null,
   "id": "07c2b5f7",
   "metadata": {},
   "outputs": [],
   "source": [
    "import joblib\n",
    "import pandas as pd\n",
    "from sklearn.metrics import r2_score, mean_squared_error"
   ]
  },
  {
   "cell_type": "code",
   "execution_count": null,
   "id": "7d40844f",
   "metadata": {},
   "outputs": [],
   "source": [
    "model = joblib.load('models/Cephalonia_<timestamp>.joblib')"
   ]
  },
  {
   "cell_type": "code",
   "execution_count": null,
   "id": "dd77363f",
   "metadata": {},
   "outputs": [],
   "source": [
    "df = pd.read_csv('data/processed_filled/combined_Cephalonia_filled.csv')\n",
    "# Add your preprocessing here"
   ]
  },
  {
   "cell_type": "code",
   "execution_count": null,
   "id": "7655b451",
   "metadata": {},
   "outputs": [],
   "source": [
    "# X, y = preprocess_data(df)\n",
    "# y_pred = model.predict(X)\n",
    "# print('R²:', r2_score(y, y_pred))\n",
    "# print('RMSE:', mean_squared_error(y, y_pred, squared=False))"
   ]
  },
  {
   "cell_type": "code",
   "execution_count": null,
   "id": "7700a5b6",
   "metadata": {},
   "outputs": [],
   "source": [
    "Pipeline(steps=[('standardscaler', StandardScaler()),\n",
    "                ('selectfrommodel',\n",
    "                 SelectFromModel(estimator=ExtraTreesRegressor(criterion='poisson',\n",
    "                                                               max_features=0.3618613254315,\n",
    "                                                               min_samples_leaf=2,\n",
    "                                                               min_samples_split=10,\n",
    "                                                               n_jobs=1,\n",
    "                                                               random_state=42),\n",
    "                                 threshold=0.0023041906972)),\n",
    "                ('featureunion-1',\n",
    "                 FeatureUnion(transformer_list=[('featureunion',\n",
    "                                                 FeatureUnion(transformer_...\n",
    "                                                ('passthrough',\n",
    "                                                 Passthrough())])),\n",
    "                ('featureunion-2',\n",
    "                 FeatureUnion(transformer_list=[('skiptransformer',\n",
    "                                                 SkipTransformer()),\n",
    "                                                ('passthrough',\n",
    "                                                 Passthrough())])),\n",
    "                ('mlpregressor',\n",
    "                 MLPRegressor(activation='tanh', alpha=7.5169513e-06,\n",
    "                              hidden_layer_sizes=[83, 83, 83],\n",
    "                              learning_rate='invscaling',\n",
    "                              learning_rate_init=0.0010539959986,\n",
    "                              n_iter_no_change=32, random_state=42))])"
   ]
  },
  {
   "cell_type": "code",
   "execution_count": null,
   "id": "79f474f5",
   "metadata": {},
   "outputs": [],
   "source": [
    "# You can now modify or further analyze your pipeline."
   ]
  }
 ],
 "metadata": {},
 "nbformat": 4,
 "nbformat_minor": 5
}
